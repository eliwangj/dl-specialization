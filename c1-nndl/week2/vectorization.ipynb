{
 "cells": [
  {
   "cell_type": "markdown",
   "id": "bc254193-d70b-41d9-b734-e298c1f904f3",
   "metadata": {},
   "source": [
    "# Vectorization Demo"
   ]
  },
  {
   "cell_type": "code",
   "execution_count": 2,
   "id": "59e4a82c-154e-48b9-b4fb-079f3861adb8",
   "metadata": {},
   "outputs": [
    {
     "name": "stdout",
     "output_type": "stream",
     "text": [
      "[1 2 3 4]\n"
     ]
    }
   ],
   "source": [
    "import numpy as np\n",
    "\n",
    "a = np.array([1, 2, 3, 4])\n",
    "print(a)"
   ]
  },
  {
   "cell_type": "code",
   "execution_count": 5,
   "id": "775c8429-4fd5-4bb1-bfb2-2d466ed412df",
   "metadata": {},
   "outputs": [
    {
     "name": "stdout",
     "output_type": "stream",
     "text": [
      "249760.10952166165\n",
      "Vectorized version: 0.7579326629638672ms\n",
      "249760.1095216607\n",
      "For loop: 139.88518714904785ms\n"
     ]
    }
   ],
   "source": [
    "import time\n",
    "\n",
    "a = np.random.rand(1000000)\n",
    "b = np.random.rand(1000000)\n",
    "\n",
    "tic = time.time()\n",
    "c = np.dot(a, b)\n",
    "toc = time.time()\n",
    "\n",
    "print(c)\n",
    "print(\"Vectorized version: \" + str(1000 * (toc - tic)) + \"ms\")\n",
    "\n",
    "c = 0\n",
    "tic = time.time()\n",
    "for i in range(1000000):\n",
    "    c += a[i] * b[i]\n",
    "toc = time.time()\n",
    "\n",
    "print(c)\n",
    "print(\"For loop: \" + str(1000 * (toc - tic)) + \"ms\")"
   ]
  },
  {
   "cell_type": "markdown",
   "id": "b43905e8",
   "metadata": {},
   "source": [
    "I asked Copilot to \"give me another method to vectorize the dot product calculation\" and it generated the code below, but it's wrong. `np.dot(a, b)` and `np.sum(a * b)` are not necessarily the same."
   ]
  },
  {
   "cell_type": "code",
   "execution_count": 7,
   "id": "new-cell-id",
   "metadata": {},
   "outputs": [
    {
     "name": "stdout",
     "output_type": "stream",
     "text": [
      "250529.3042981235\n",
      "Vectorized version with np.sum: 1.5289783477783203ms\n"
     ]
    }
   ],
   "source": [
    "a = np.random.rand(1000000)\n",
    "b = np.random.rand(1000000)\n",
    "\n",
    "tic = time.time()\n",
    "c = np.sum(a * b)\n",
    "toc = time.time()\n",
    "\n",
    "print(c)\n",
    "print(\"Vectorized version with np.sum: \" + str(1000 * (toc - tic)) + \"ms\")"
   ]
  },
  {
   "cell_type": "code",
   "execution_count": null,
   "id": "8f1320f5-119e-477b-a36d-e06f4667ba74",
   "metadata": {},
   "outputs": [],
   "source": []
  }
 ],
 "metadata": {
  "kernelspec": {
   "display_name": "dls",
   "language": "python",
   "name": "dls-env"
  },
  "language_info": {
   "codemirror_mode": {
    "name": "ipython",
    "version": 3
   },
   "file_extension": ".py",
   "mimetype": "text/x-python",
   "name": "python",
   "nbconvert_exporter": "python",
   "pygments_lexer": "ipython3",
   "version": "3.12.8"
  }
 },
 "nbformat": 4,
 "nbformat_minor": 5
}
